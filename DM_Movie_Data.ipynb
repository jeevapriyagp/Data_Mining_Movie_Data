{
  "nbformat": 4,
  "nbformat_minor": 0,
  "metadata": {
    "colab": {
      "provenance": [],
      "authorship_tag": "ABX9TyP29cgI2V5/yQV0mtM0NIXz",
      "include_colab_link": true
    },
    "kernelspec": {
      "name": "python3",
      "display_name": "Python 3"
    },
    "language_info": {
      "name": "python"
    }
  },
  "cells": [
    {
      "cell_type": "markdown",
      "metadata": {
        "id": "view-in-github",
        "colab_type": "text"
      },
      "source": [
        "<a href=\"https://colab.research.google.com/github/jeevapriyagp/Data_Mining_Movie_Data/blob/main/DM_Movie_Data.ipynb\" target=\"_parent\"><img src=\"https://colab.research.google.com/assets/colab-badge.svg\" alt=\"Open In Colab\"/></a>"
      ]
    },
    {
      "cell_type": "code",
      "source": [
        "import warnings\n",
        "warnings.filterwarnings(\"ignore\")  # suppress all warnings"
      ],
      "metadata": {
        "id": "yKTHKnFJ3noT"
      },
      "execution_count": null,
      "outputs": []
    },
    {
      "cell_type": "code",
      "execution_count": null,
      "metadata": {
        "id": "PmLOm-S7xVBB"
      },
      "outputs": [],
      "source": [
        "!git clone https://github.com/jeevapriyagp/Data_Mining_Movie_Data.git"
      ]
    },
    {
      "cell_type": "code",
      "source": [
        "%cd Data_Mining_Movie_Data/"
      ],
      "metadata": {
        "colab": {
          "base_uri": "https://localhost:8080/"
        },
        "id": "JthJI41ux7bw",
        "outputId": "d92247ed-f1af-4938-c14f-952a15f418a8"
      },
      "execution_count": null,
      "outputs": [
        {
          "output_type": "stream",
          "name": "stdout",
          "text": [
            "/content/Data_Mining_Movie_Data\n"
          ]
        }
      ]
    },
    {
      "cell_type": "code",
      "source": [
        "!git config --global user.email \"jeevapriyapoopathi@gmail.com\"\n",
        "!git config --global user.name \"jeevapriyagp\""
      ],
      "metadata": {
        "id": "Cbf-lB-eyJ1v"
      },
      "execution_count": null,
      "outputs": []
    },
    {
      "cell_type": "code",
      "source": [
        "!pip install gradio"
      ],
      "metadata": {
        "colab": {
          "base_uri": "https://localhost:8080/"
        },
        "collapsed": true,
        "id": "1GJN5JGuzHsw",
        "outputId": "213d9b0d-0a57-430f-c8dd-5209475f9ea4"
      },
      "execution_count": null,
      "outputs": [
        {
          "output_type": "stream",
          "name": "stdout",
          "text": [
            "Requirement already satisfied: gradio in /usr/local/lib/python3.12/dist-packages (5.46.0)\n",
            "Requirement already satisfied: aiofiles<25.0,>=22.0 in /usr/local/lib/python3.12/dist-packages (from gradio) (24.1.0)\n",
            "Requirement already satisfied: anyio<5.0,>=3.0 in /usr/local/lib/python3.12/dist-packages (from gradio) (4.10.0)\n",
            "Requirement already satisfied: brotli>=1.1.0 in /usr/local/lib/python3.12/dist-packages (from gradio) (1.1.0)\n",
            "Requirement already satisfied: fastapi<1.0,>=0.115.2 in /usr/local/lib/python3.12/dist-packages (from gradio) (0.116.2)\n",
            "Requirement already satisfied: ffmpy in /usr/local/lib/python3.12/dist-packages (from gradio) (0.6.1)\n",
            "Requirement already satisfied: gradio-client==1.13.0 in /usr/local/lib/python3.12/dist-packages (from gradio) (1.13.0)\n",
            "Requirement already satisfied: groovy~=0.1 in /usr/local/lib/python3.12/dist-packages (from gradio) (0.1.2)\n",
            "Requirement already satisfied: httpx<1.0,>=0.24.1 in /usr/local/lib/python3.12/dist-packages (from gradio) (0.28.1)\n",
            "Requirement already satisfied: huggingface-hub<1.0,>=0.33.5 in /usr/local/lib/python3.12/dist-packages (from gradio) (0.35.0)\n",
            "Requirement already satisfied: jinja2<4.0 in /usr/local/lib/python3.12/dist-packages (from gradio) (3.1.6)\n",
            "Requirement already satisfied: markupsafe<4.0,>=2.0 in /usr/local/lib/python3.12/dist-packages (from gradio) (3.0.2)\n",
            "Requirement already satisfied: numpy<3.0,>=1.0 in /usr/local/lib/python3.12/dist-packages (from gradio) (2.0.2)\n",
            "Requirement already satisfied: orjson~=3.0 in /usr/local/lib/python3.12/dist-packages (from gradio) (3.11.3)\n",
            "Requirement already satisfied: packaging in /usr/local/lib/python3.12/dist-packages (from gradio) (25.0)\n",
            "Requirement already satisfied: pandas<3.0,>=1.0 in /usr/local/lib/python3.12/dist-packages (from gradio) (2.2.2)\n",
            "Requirement already satisfied: pillow<12.0,>=8.0 in /usr/local/lib/python3.12/dist-packages (from gradio) (11.3.0)\n",
            "Requirement already satisfied: pydantic<2.12,>=2.0 in /usr/local/lib/python3.12/dist-packages (from gradio) (2.11.9)\n",
            "Requirement already satisfied: pydub in /usr/local/lib/python3.12/dist-packages (from gradio) (0.25.1)\n",
            "Requirement already satisfied: python-multipart>=0.0.18 in /usr/local/lib/python3.12/dist-packages (from gradio) (0.0.20)\n",
            "Requirement already satisfied: pyyaml<7.0,>=5.0 in /usr/local/lib/python3.12/dist-packages (from gradio) (6.0.2)\n",
            "Requirement already satisfied: ruff>=0.9.3 in /usr/local/lib/python3.12/dist-packages (from gradio) (0.13.0)\n",
            "Requirement already satisfied: safehttpx<0.2.0,>=0.1.6 in /usr/local/lib/python3.12/dist-packages (from gradio) (0.1.6)\n",
            "Requirement already satisfied: semantic-version~=2.0 in /usr/local/lib/python3.12/dist-packages (from gradio) (2.10.0)\n",
            "Requirement already satisfied: starlette<1.0,>=0.40.0 in /usr/local/lib/python3.12/dist-packages (from gradio) (0.48.0)\n",
            "Requirement already satisfied: tomlkit<0.14.0,>=0.12.0 in /usr/local/lib/python3.12/dist-packages (from gradio) (0.13.3)\n",
            "Requirement already satisfied: typer<1.0,>=0.12 in /usr/local/lib/python3.12/dist-packages (from gradio) (0.17.4)\n",
            "Requirement already satisfied: typing-extensions~=4.0 in /usr/local/lib/python3.12/dist-packages (from gradio) (4.15.0)\n",
            "Requirement already satisfied: uvicorn>=0.14.0 in /usr/local/lib/python3.12/dist-packages (from gradio) (0.35.0)\n",
            "Requirement already satisfied: fsspec in /usr/local/lib/python3.12/dist-packages (from gradio-client==1.13.0->gradio) (2025.3.0)\n",
            "Requirement already satisfied: websockets<16.0,>=10.0 in /usr/local/lib/python3.12/dist-packages (from gradio-client==1.13.0->gradio) (15.0.1)\n",
            "Requirement already satisfied: idna>=2.8 in /usr/local/lib/python3.12/dist-packages (from anyio<5.0,>=3.0->gradio) (3.10)\n",
            "Requirement already satisfied: sniffio>=1.1 in /usr/local/lib/python3.12/dist-packages (from anyio<5.0,>=3.0->gradio) (1.3.1)\n",
            "Requirement already satisfied: certifi in /usr/local/lib/python3.12/dist-packages (from httpx<1.0,>=0.24.1->gradio) (2025.8.3)\n",
            "Requirement already satisfied: httpcore==1.* in /usr/local/lib/python3.12/dist-packages (from httpx<1.0,>=0.24.1->gradio) (1.0.9)\n",
            "Requirement already satisfied: h11>=0.16 in /usr/local/lib/python3.12/dist-packages (from httpcore==1.*->httpx<1.0,>=0.24.1->gradio) (0.16.0)\n",
            "Requirement already satisfied: filelock in /usr/local/lib/python3.12/dist-packages (from huggingface-hub<1.0,>=0.33.5->gradio) (3.19.1)\n",
            "Requirement already satisfied: requests in /usr/local/lib/python3.12/dist-packages (from huggingface-hub<1.0,>=0.33.5->gradio) (2.32.4)\n",
            "Requirement already satisfied: tqdm>=4.42.1 in /usr/local/lib/python3.12/dist-packages (from huggingface-hub<1.0,>=0.33.5->gradio) (4.67.1)\n",
            "Requirement already satisfied: hf-xet<2.0.0,>=1.1.3 in /usr/local/lib/python3.12/dist-packages (from huggingface-hub<1.0,>=0.33.5->gradio) (1.1.10)\n",
            "Requirement already satisfied: python-dateutil>=2.8.2 in /usr/local/lib/python3.12/dist-packages (from pandas<3.0,>=1.0->gradio) (2.9.0.post0)\n",
            "Requirement already satisfied: pytz>=2020.1 in /usr/local/lib/python3.12/dist-packages (from pandas<3.0,>=1.0->gradio) (2025.2)\n",
            "Requirement already satisfied: tzdata>=2022.7 in /usr/local/lib/python3.12/dist-packages (from pandas<3.0,>=1.0->gradio) (2025.2)\n",
            "Requirement already satisfied: annotated-types>=0.6.0 in /usr/local/lib/python3.12/dist-packages (from pydantic<2.12,>=2.0->gradio) (0.7.0)\n",
            "Requirement already satisfied: pydantic-core==2.33.2 in /usr/local/lib/python3.12/dist-packages (from pydantic<2.12,>=2.0->gradio) (2.33.2)\n",
            "Requirement already satisfied: typing-inspection>=0.4.0 in /usr/local/lib/python3.12/dist-packages (from pydantic<2.12,>=2.0->gradio) (0.4.1)\n",
            "Requirement already satisfied: click>=8.0.0 in /usr/local/lib/python3.12/dist-packages (from typer<1.0,>=0.12->gradio) (8.2.1)\n",
            "Requirement already satisfied: shellingham>=1.3.0 in /usr/local/lib/python3.12/dist-packages (from typer<1.0,>=0.12->gradio) (1.5.4)\n",
            "Requirement already satisfied: rich>=10.11.0 in /usr/local/lib/python3.12/dist-packages (from typer<1.0,>=0.12->gradio) (13.9.4)\n",
            "Requirement already satisfied: six>=1.5 in /usr/local/lib/python3.12/dist-packages (from python-dateutil>=2.8.2->pandas<3.0,>=1.0->gradio) (1.17.0)\n",
            "Requirement already satisfied: markdown-it-py>=2.2.0 in /usr/local/lib/python3.12/dist-packages (from rich>=10.11.0->typer<1.0,>=0.12->gradio) (4.0.0)\n",
            "Requirement already satisfied: pygments<3.0.0,>=2.13.0 in /usr/local/lib/python3.12/dist-packages (from rich>=10.11.0->typer<1.0,>=0.12->gradio) (2.19.2)\n",
            "Requirement already satisfied: charset_normalizer<4,>=2 in /usr/local/lib/python3.12/dist-packages (from requests->huggingface-hub<1.0,>=0.33.5->gradio) (3.4.3)\n",
            "Requirement already satisfied: urllib3<3,>=1.21.1 in /usr/local/lib/python3.12/dist-packages (from requests->huggingface-hub<1.0,>=0.33.5->gradio) (2.5.0)\n",
            "Requirement already satisfied: mdurl~=0.1 in /usr/local/lib/python3.12/dist-packages (from markdown-it-py>=2.2.0->rich>=10.11.0->typer<1.0,>=0.12->gradio) (0.1.2)\n"
          ]
        }
      ]
    },
    {
      "cell_type": "code",
      "source": [
        "import pandas as pd\n",
        "import gradio as gr\n",
        "from sklearn.preprocessing import LabelEncoder\n",
        "from sklearn.cluster import KMeans\n",
        "from sklearn.feature_extraction.text import CountVectorizer\n",
        "from mlxtend.frequent_patterns import apriori, association_rules\n",
        "from mlxtend.preprocessing import TransactionEncoder\n",
        "import matplotlib.pyplot as plt\n",
        "from collections import Counter\n",
        "from sklearn.ensemble import IsolationForest\n",
        "\n",
        "file_path_movies = \"/content/Data_Mining_Movie_Data/movies_with_images.xlsx\"\n",
        "df_movies = pd.read_excel(file_path_movies, sheet_name=\"Sheet1\")\n",
        "\n",
        "file_path_watchlist = \"/content/Data_Mining_Movie_Data/user_watchlist_grouped.csv\"\n",
        "df_watchlist = pd.read_csv(file_path_watchlist)\n",
        "df_watchlist[\"Movies_Watched\"] = df_watchlist[\"Movies_Watched\"].apply(lambda x: \", \".join(x) if isinstance(x, list) else x)\n",
        "\n",
        "# Extract relevant columns for genre and director clustering\n",
        "df_cluster = df_movies[['Title', 'Genre', 'Director']].dropna()\n",
        "\n",
        "# Encode genres numerically\n",
        "label_encoder = LabelEncoder()\n",
        "df_cluster['Genre_Encoded'] = label_encoder.fit_transform(df_cluster['Genre'])\n",
        "\n",
        "# Perform genre clustering\n",
        "num_clusters = 5\n",
        "kmeans = KMeans(n_clusters=num_clusters, random_state=42, n_init=10)\n",
        "df_cluster['Cluster'] = kmeans.fit_predict(df_cluster[['Genre_Encoded']])\n",
        "\n",
        "# Map clusters to genres\n",
        "genre_mapping = df_cluster.groupby('Cluster')['Genre'].first().to_dict()\n",
        "df_cluster['Genre_Label'] = df_cluster['Cluster'].map(genre_mapping)\n",
        "\n",
        "# Get unique genres and directors\n",
        "genres = sorted(df_cluster['Genre_Label'].unique())\n",
        "directors = sorted(df_cluster['Director'].unique())\n",
        "\n",
        "\n",
        "# Function to get statistics about movie-watching habits\n",
        "def movie_watch_stats():\n",
        "    total_users = len(df_watchlist)\n",
        "    total_movies = len(movie_counts)\n",
        "    avg_movies_per_user = sum(len(movies.split(', ')) for movies in df_watchlist['Movies_Watched']) / total_users\n",
        "    return f\"Movie Watchlist Statistics\\n**Total Users:** {total_users}\\n**Total Unique Movies:** {total_movies}\\n**Average Movies Watched Per User:** {avg_movies_per_user:.2f}\"\n",
        "\n",
        "\n",
        "# Function to plot top N movies\n",
        "def plot_top_movies(n=5):\n",
        "    top_n_movies = movie_counts.most_common(n)\n",
        "    movies, counts = zip(*top_n_movies)\n",
        "    plt.figure(figsize=(8, 5))\n",
        "    plt.barh(movies, counts, color='royalblue')\n",
        "    plt.xlabel(\"Number of Users\")\n",
        "    plt.ylabel(\"Movies\")\n",
        "    plt.title(f\"Top {n} Most Watched Movies\")\n",
        "    plt.gca().invert_yaxis()\n",
        "    plt.tight_layout()\n",
        "    plt.savefig(\"top_movies_plot.png\")\n",
        "    return \"top_movies_plot.png\"\n",
        "\n",
        "# Function to get movies by selected genre\n",
        "def get_movies_by_genre(selected_genre):\n",
        "    movies = df_cluster[df_cluster['Genre_Label'] == selected_genre]['Title'].tolist()\n",
        "    return \"\\n\".join(movies) if movies else \"No movies found for this genre.\"\n",
        "\n",
        "# Function to get movies by selected director\n",
        "def get_movies_by_director(selected_director):\n",
        "    movies = df_cluster[df_cluster['Director'] == selected_director]['Title'].tolist()\n",
        "    return \"\\n\".join(movies) if movies else \"No movies found for this director.\"\n",
        "\n",
        "# Process movie data for Apriori\n",
        "movie_counts = Counter(movie.strip() for movies in df_watchlist['Movies_Watched'].str.split(', ') for movie in movies)\n",
        "movie_lists = df_watchlist[\"Movies_Watched\"].str.split(', ').tolist()\n",
        "\n",
        "# Prepare data for Apriori\n",
        "te = TransactionEncoder()\n",
        "te_ary = te.fit(movie_lists).transform(movie_lists)\n",
        "basket_df = pd.DataFrame(te_ary, columns=te.columns_)\n",
        "frequent_itemsets = apriori(basket_df, min_support=0.01, use_colnames=True)\n",
        "rules = association_rules(frequent_itemsets, metric=\"confidence\", min_threshold=0.01)\n",
        "\n",
        "# Function to recommend movies\n",
        "def recommend_movie(selected_movie):\n",
        "    related_rules = rules[rules[\"antecedents\"].apply(lambda x: selected_movie in x)]\n",
        "    recommended = set()\n",
        "    for _, row in related_rules.iterrows():\n",
        "        recommended.update(row[\"consequents\"])\n",
        "    return list(recommended) if recommended else [\"No Movies to Recommend\"]\n",
        "\n",
        "# User Clustering using KMeans\n",
        "vectorizer = CountVectorizer(tokenizer=lambda x: x.split(', '))\n",
        "X = vectorizer.fit_transform(df_watchlist['Movies_Watched'].astype(str))\n",
        "num_user_clusters = 10\n",
        "kmeans_users = KMeans(n_clusters=num_user_clusters, random_state=42)\n",
        "df_watchlist['Cluster'] = kmeans_users.fit_predict(X)\n",
        "\n",
        "# Function to plot user clustering\n",
        "def plot_user_clusters():\n",
        "    plt.figure(figsize=(10, 6))\n",
        "    plt.bar(df_watchlist['Cluster'].value_counts().index, df_watchlist['Cluster'].value_counts().values, color='royalblue', edgecolor='black')\n",
        "    plt.xlabel(\"Cluster\")\n",
        "    plt.ylabel(\"Number of Users\")\n",
        "    plt.xticks(rotation=45)\n",
        "    plt.title(\"User Clustering Based on Movie Preferences\")\n",
        "    plt.grid(axis='y', linestyle='--', alpha=0.7)\n",
        "    plt.savefig(\"user_cluster_distribution.png\")\n",
        "    return \"user_cluster_distribution.png\"\n",
        "\n",
        "# Function to get top N most-watched movies\n",
        "def top_movies(n=5):\n",
        "    return dict(movie_counts.most_common(n))\n",
        "\n",
        "# Function to get top N users who watched the most movies\n",
        "def top_users(n=5):\n",
        "    user_movie_counts = df_watchlist.set_index(\"User_ID\")[\"Movies_Watched\"].str.count(', ') + 1\n",
        "    return user_movie_counts.nlargest(n).to_dict()\n",
        "\n",
        "# Function to plot top N users who watched the most movies\n",
        "def plot_top_users(n=5):\n",
        "    user_movie_counts = df_watchlist.set_index(\"User_ID\")[\"Movies_Watched\"].str.count(', ') + 1\n",
        "    top_users = user_movie_counts.nlargest(n)\n",
        "    plt.figure(figsize=(8, 5))\n",
        "    plt.barh(top_users.index.astype(str), top_users.values, color='royalblue')\n",
        "    plt.xlabel(\"Number of Movies Watched\")\n",
        "    plt.ylabel(\"Users\")\n",
        "    plt.title(f\"Top {n} Users with Most Watched Movies\")\n",
        "    plt.gca().invert_yaxis()\n",
        "    plt.tight_layout()\n",
        "    plt.savefig(\"top_users_plot.png\")\n",
        "    return \"top_users_plot.png\"\n",
        "\n",
        "# Function to detect outliers (rarely watched movies)\n",
        "def detect_rare_movies():\n",
        "    rare_movies = [movie for movie, count in movie_counts.items() if count < 5]  # Adjusted threshold\n",
        "    return \"\\n\".join(rare_movies) if rare_movies else \"No rare movies found.\"\n",
        "\n",
        "# Function to visualize rarely watched movies\n",
        "def plot_rare_movies():\n",
        "    rare_movie_counts = {movie: count for movie, count in movie_counts.items() if count < 5}  # Adjusted threshold\n",
        "    if not rare_movie_counts:\n",
        "        return \"No rare movies to display.\"\n",
        "    sorted_rare_movies = sorted(rare_movie_counts.items(), key=lambda x: x[1])[:50]  # Limit to top 50\n",
        "    plt.figure(figsize=(12, 15))\n",
        "    plt.barh([x[0] for x in sorted_rare_movies], [x[1] for x in sorted_rare_movies], color='red', edgecolor='black')\n",
        "    plt.xlabel(\"Watch Count\")\n",
        "    plt.ylabel(\"Movies\")\n",
        "    plt.title(\"Rarely Watched Movies\")\n",
        "    plt.gca().invert_yaxis()\n",
        "    plt.grid(axis='x', linestyle='--', alpha=0.7)\n",
        "    plt.tight_layout()\n",
        "    plt.savefig(\"rare_movies_plot.png\")\n",
        "    return \"rare_movies_plot.png\"\n",
        "\n",
        "# Create Gradio interface\n",
        "with gr.Blocks() as demo:\n",
        "    gr.Markdown(\"## 🎬Movie Dashboard\")\n",
        "\n",
        "    with gr.Tab(\"Statistics\"):\n",
        "        gr.Markdown(\"User Watchlist Statistics\")\n",
        "        stats_result = gr.Textbox()\n",
        "        stats_btn = gr.Button(\"Get Statistics\")\n",
        "        stats_btn.click(movie_watch_stats, outputs=stats_result)\n",
        "\n",
        "    with gr.Tab(\"Top N Movies\"):\n",
        "        gr.Markdown(\"🔥 Top N Movies\")\n",
        "        top_n = gr.Number(value=5, label=\"Top N Movies\")\n",
        "        top_result = gr.Textbox()\n",
        "        top_btn = gr.Button(\"Get Top Movies\")\n",
        "        top_btn.click(top_movies, inputs=top_n, outputs=top_result)\n",
        "\n",
        "    with gr.Tab(\"Top N Movies Visualization\"):\n",
        "        gr.Markdown(\"📈 Top N Movies Visualization\")\n",
        "        top_n_plot = gr.Number(value=5, label=\"Top N Movies for Plot\")\n",
        "        plot_result = gr.Image()\n",
        "        plot_btn = gr.Button(\"Show Top Movies Chart\")\n",
        "        plot_btn.click(plot_top_movies, inputs=top_n_plot, outputs=plot_result)\n",
        "\n",
        "    with gr.Tab(\"Top N Users\"):\n",
        "        gr.Markdown(\"🏆 Top N Users\")\n",
        "        top_users_n = gr.Number(value=5, label=\"Top N Users\")\n",
        "        top_users_result = gr.Textbox()\n",
        "        top_users_btn = gr.Button(\"Get Top Users\")\n",
        "        top_users_btn.click(top_users, inputs=top_users_n, outputs=top_users_result)\n",
        "\n",
        "    with gr.Tab(\"Top N Users Visualization\"):\n",
        "        gr.Markdown(\"📊 Top N Users Visualization\")\n",
        "        top_users_plot_n = gr.Number(value=5, label=\"Top N Users for Plot\")\n",
        "        plot_users_result = gr.Image()\n",
        "        plot_users_btn = gr.Button(\"Show Top Users Chart\")\n",
        "        plot_users_btn.click(plot_top_users, inputs=top_users_plot_n, outputs=plot_users_result)\n",
        "\n",
        "\n",
        "    with gr.Tab(\"Genre Clustering\"):\n",
        "        gr.Markdown(\"🎭 Movie Genre Clustering\")\n",
        "        genre_dropdown = gr.Dropdown(choices=genres, label=\"Select Genre\")\n",
        "        genre_result = gr.Textbox()\n",
        "        genre_btn = gr.Button(\"Get Movies by Genre\")\n",
        "        genre_btn.click(get_movies_by_genre, inputs=genre_dropdown, outputs=genre_result)\n",
        "\n",
        "    with gr.Tab(\"Movie Director Filtering\"):\n",
        "        gr.Markdown(\"Director-based movie Filtering\")\n",
        "        director_dropdown = gr.Dropdown(choices=directors, label=\"Select Director\")\n",
        "        director_result = gr.Textbox()\n",
        "        director_btn = gr.Button(\"Get Movies by Director\")\n",
        "        director_btn.click(get_movies_by_director, inputs=director_dropdown, outputs=director_result)\n",
        "\n",
        "    with gr.Tab(\"Movie Recommendations\"):\n",
        "        gr.Markdown(\"🎥 Movie Recommendations (Apriori)\")\n",
        "        movie_dropdown = gr.Dropdown(choices=sorted(set(movie_counts.keys())), label=\"Select a Movie\")\n",
        "        recommend_result = gr.Textbox()\n",
        "        recommend_btn = gr.Button(\"Get Recommendations\")\n",
        "        recommend_btn.click(recommend_movie, inputs=movie_dropdown, outputs=recommend_result)\n",
        "\n",
        "    with gr.Tab(\"User Clustering\"):\n",
        "        gr.Markdown(\"👥 User Clustering based on movie preferences\")\n",
        "        user_cluster_plot = gr.Image()\n",
        "        user_cluster_btn = gr.Button(\"Show User Cluster Distribution\")\n",
        "        user_cluster_btn.click(plot_user_clusters, outputs=user_cluster_plot)\n",
        "\n",
        "    with gr.Tab(\"Rare movies(Outlier)\"):\n",
        "        gr.Markdown(\"🎭 Rarely Watched Movies using outlier analysis\")\n",
        "        rare_movies_result = gr.Textbox()\n",
        "        rare_movies_btn = gr.Button(\"Get Rare Movies\")\n",
        "        rare_movies_btn.click(detect_rare_movies, outputs=rare_movies_result)\n",
        "        rare_movies_plot_result = gr.Image()\n",
        "        rare_movies_plot_btn = gr.Button(\"Show Rare Movies Chart\")\n",
        "        rare_movies_plot_btn.click(plot_rare_movies, outputs=rare_movies_plot_result)\n",
        "\n",
        "# Launch the app\n",
        "demo.launch()"
      ],
      "metadata": {
        "colab": {
          "base_uri": "https://localhost:8080/",
          "height": 646
        },
        "collapsed": true,
        "id": "R6LoIKpYzFXv",
        "outputId": "5225df0e-68a1-47a3-fd39-f89e5e176fae"
      },
      "execution_count": 10,
      "outputs": [
        {
          "output_type": "stream",
          "name": "stdout",
          "text": [
            "It looks like you are running Gradio on a hosted Jupyter notebook, which requires `share=True`. Automatically setting `share=True` (you can turn this off by setting `share=False` in `launch()` explicitly).\n",
            "\n",
            "Colab notebook detected. To show errors in colab notebook, set debug=True in launch()\n",
            "* Running on public URL: https://7e6ccaf9a2e0eb316a.gradio.live\n",
            "\n",
            "This share link expires in 1 week. For free permanent hosting and GPU upgrades, run `gradio deploy` from the terminal in the working directory to deploy to Hugging Face Spaces (https://huggingface.co/spaces)\n"
          ]
        },
        {
          "output_type": "display_data",
          "data": {
            "text/plain": [
              "<IPython.core.display.HTML object>"
            ],
            "text/html": [
              "<div><iframe src=\"https://7e6ccaf9a2e0eb316a.gradio.live\" width=\"100%\" height=\"500\" allow=\"autoplay; camera; microphone; clipboard-read; clipboard-write;\" frameborder=\"0\" allowfullscreen></iframe></div>"
            ]
          },
          "metadata": {}
        },
        {
          "output_type": "execute_result",
          "data": {
            "text/plain": []
          },
          "metadata": {},
          "execution_count": 10
        }
      ]
    }
  ]
}